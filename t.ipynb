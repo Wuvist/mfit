{
 "cells": [
  {
   "cell_type": "code",
   "execution_count": 1,
   "id": "630bcc04",
   "metadata": {},
   "outputs": [
    {
     "name": "stderr",
     "output_type": "stream",
     "text": [
      "Matplotlib is building the font cache; this may take a moment.\n"
     ]
    }
   ],
   "source": [
    "import sys\n",
    "import traceback\n",
    "from image_processor import get_landmarks\n",
    "from calculator import calculate_all_measurements\n",
    "from ui_handler import (\n",
    "    display_welcome,\n",
    "    display_guidelines,\n",
    "    get_user_consent,\n",
    "    collect_inputs,\n",
    "    display_processing,\n",
    "    display_measurements,\n",
    "    export_measurements,\n",
    "    display_error,\n",
    "    display_completion\n",
    ")"
   ]
  },
  {
   "cell_type": "code",
   "execution_count": null,
   "id": "b07c1ad0",
   "metadata": {},
   "outputs": [],
   "source": [
    "front_image_path = \"pics/a1.jpg\"\n",
    "side_image_path = \"pics/a2.jpg\""
   ]
  },
  {
   "cell_type": "code",
   "execution_count": null,
   "id": "0462280e",
   "metadata": {},
   "outputs": [
    {
     "name": "stderr",
     "output_type": "stream",
     "text": [
      "I0000 00:00:1760961091.550046 2610607 gl_context.cc:357] GL version: 2.1 (2.1 Metal - 90.5), renderer: Apple M4 Max\n",
      "W0000 00:00:1760961091.600968 2616654 inference_feedback_manager.cc:114] Feedback manager requires a model with a single signature inference. Disabling support for feedback tensors.\n",
      "W0000 00:00:1760961091.615649 2616654 inference_feedback_manager.cc:114] Feedback manager requires a model with a single signature inference. Disabling support for feedback tensors.\n"
     ]
    }
   ],
   "source": [
    "front_landmarks = get_landmarks(front_image_path)\n",
    "side_landmarks = get_landmarks(side_image_path)"
   ]
  },
  {
   "cell_type": "code",
   "execution_count": 6,
   "id": "94906fb5",
   "metadata": {},
   "outputs": [],
   "source": [
    "height_cm = 169\n",
    "measurements = calculate_all_measurements(\n",
    "                front_landmarks,\n",
    "                side_landmarks,\n",
    "                height_cm\n",
    "            )"
   ]
  },
  {
   "cell_type": "code",
   "execution_count": 7,
   "id": "2b4dadcd",
   "metadata": {},
   "outputs": [
    {
     "name": "stdout",
     "output_type": "stream",
     "text": [
      "\n",
      "\n",
      "================================================================================\n",
      "                            BODY MEASUREMENTS REPORT                            \n",
      "================================================================================\n",
      "\n",
      "Height: 169.0 cm\n",
      "\n",
      "┌─ LINEAR MEASUREMENTS ────────────────────────────────────────────────────────┐\n",
      "│ Shoulder Width:                35.4 cm                          │\n",
      "│ Left Sleeve Length:             51.1 cm                          │\n",
      "│ Right Sleeve Length:            50.9 cm                          │\n",
      "│ Inseam:                         69.2 cm                          │\n",
      "│ Outseam:                        68.9 cm                          │\n",
      "└──────────────────────────────────────────────────────────────────────────────┘\n",
      "\n",
      "┌─ CIRCUMFERENTIAL MEASUREMENTS ───────────────────────────────────────────────┐\n",
      "│ Neck Circumference:             28.6 cm                          │\n",
      "│ Chest Circumference:            81.2 cm                          │\n",
      "│ Waist Circumference:            54.0 cm                          │\n",
      "│ Hip Circumference:              54.0 cm                          │\n",
      "│ Left Bicep Circumference:       18.7 cm                          │\n",
      "│ Right Bicep Circumference:      17.6 cm                          │\n",
      "│ Left Thigh Circumference:       29.4 cm                          │\n",
      "│ Right Thigh Circumference:      29.6 cm                          │\n",
      "└──────────────────────────────────────────────────────────────────────────────┘\n",
      "\n",
      "!!!!!!!!!!!!!!!!!!!!!!!!!!!!!!!!!!!!!!!!!!!!!!!!!!!!!!!!!!!!!!!!!!!!!!!!!!!!!!!!\n",
      "                                  DISCLAIMER:                                   \n",
      "      These measurements are estimates. Accuracy depends on photo quality.      \n",
      "               For best results, follow all guidelines carefully.               \n",
      "!!!!!!!!!!!!!!!!!!!!!!!!!!!!!!!!!!!!!!!!!!!!!!!!!!!!!!!!!!!!!!!!!!!!!!!!!!!!!!!!\n"
     ]
    }
   ],
   "source": [
    "display_measurements(measurements)"
   ]
  }
 ],
 "metadata": {
  "kernelspec": {
   "display_name": "default",
   "language": "python",
   "name": "python3"
  },
  "language_info": {
   "codemirror_mode": {
    "name": "ipython",
    "version": 3
   },
   "file_extension": ".py",
   "mimetype": "text/x-python",
   "name": "python",
   "nbconvert_exporter": "python",
   "pygments_lexer": "ipython3",
   "version": "3.12.12"
  }
 },
 "nbformat": 4,
 "nbformat_minor": 5
}
